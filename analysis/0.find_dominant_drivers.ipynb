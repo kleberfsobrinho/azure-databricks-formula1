{
 "cells": [
  {
   "cell_type": "code",
   "execution_count": 0,
   "metadata": {
    "application/vnd.databricks.v1+cell": {
     "cellMetadata": {
      "byteLimit": 2048000,
      "rowLimit": 10000
     },
     "inputWidgets": {},
     "nuid": "d01bc028-f1bd-4136-89f7-e3ac6a2edd1d",
     "showTitle": false,
     "tableResultSettingsMap": {},
     "title": ""
    }
   },
   "outputs": [],
   "source": [
    "SELECT driver_name,\n",
    "      COUNT(1) AS total_races,\n",
    "      SUM(calculated_points) AS total_points,\n",
    "      AVG(calculated_points) AS avg_points\n",
    "FROM f1_presentation.calculated_race_results\n",
    "GROUP BY driver_name\n",
    "HAVING COUNT(1) > 50\n",
    "ORDER BY avg_points DESC"
   ]
  },
  {
   "cell_type": "code",
   "execution_count": 0,
   "metadata": {
    "application/vnd.databricks.v1+cell": {
     "cellMetadata": {
      "byteLimit": 2048000,
      "rowLimit": 10000
     },
     "inputWidgets": {},
     "nuid": "e46fc03f-ed75-4dd8-b2aa-8fecdfa09529",
     "showTitle": false,
     "tableResultSettingsMap": {},
     "title": ""
    }
   },
   "outputs": [],
   "source": [
    "SELECT driver_name,\n",
    "      COUNT(1) AS total_races,\n",
    "      SUM(calculated_points) AS total_points,\n",
    "      AVG(calculated_points) AS avg_points\n",
    "FROM f1_presentation.calculated_race_results\n",
    "WHERE race_year BETWEEN 2011 AND 2020\n",
    "GROUP BY driver_name\n",
    "HAVING COUNT(1) > 50\n",
    "ORDER BY avg_points DESC"
   ]
  },
  {
   "cell_type": "code",
   "execution_count": 0,
   "metadata": {
    "application/vnd.databricks.v1+cell": {
     "cellMetadata": {
      "byteLimit": 2048000,
      "rowLimit": 10000
     },
     "inputWidgets": {},
     "nuid": "068dafe7-7e38-4b97-abb6-e9feb7a7c6e7",
     "showTitle": false,
     "tableResultSettingsMap": {},
     "title": ""
    }
   },
   "outputs": [],
   "source": [
    "SELECT driver_name,\n",
    "      COUNT(1) AS total_races,\n",
    "      SUM(calculated_points) AS total_points,\n",
    "      AVG(calculated_points) AS avg_points\n",
    "FROM f1_presentation.calculated_race_results\n",
    "WHERE race_year BETWEEN 2001 AND 2010\n",
    "GROUP BY driver_name\n",
    "HAVING COUNT(1) > 50\n",
    "ORDER BY avg_points DESC"
   ]
  },
  {
   "cell_type": "code",
   "execution_count": 0,
   "metadata": {
    "application/vnd.databricks.v1+cell": {
     "cellMetadata": {},
     "inputWidgets": {},
     "nuid": "7e460f63-c460-4a5f-a712-0a2fe40ea2fa",
     "showTitle": false,
     "tableResultSettingsMap": {},
     "title": ""
    }
   },
   "outputs": [],
   "source": []
  }
 ],
 "metadata": {
  "application/vnd.databricks.v1+notebook": {
   "computePreferences": null,
   "dashboards": [],
   "environmentMetadata": {
    "base_environment": "",
    "environment_version": "2"
   },
   "inputWidgetPreferences": null,
   "language": "sql",
   "notebookMetadata": {
    "pythonIndentUnit": 4
   },
   "notebookName": "0.find_dominant_drivers",
   "widgets": {}
  },
  "language_info": {
   "name": "sql"
  }
 },
 "nbformat": 4,
 "nbformat_minor": 0
}
